{
 "cells": [
  {
   "cell_type": "code",
   "execution_count": null,
   "id": "baf5eb3e-6fca-4aad-9486-2f578447ff2b",
   "metadata": {},
   "outputs": [],
   "source": [
    "import json\n",
    "import csv\n",
    "import os\n",
    "import glob\n",
    "import sys\n",
    "import datetime\n",
    "import time\n",
    "import re\n",
    "import ast\n",
    "import itertools\n",
    "import collections\n",
    "import nltk\n",
    "from nltk import bigrams\n",
    "import pandas as pd\n",
    "import numpy as np\n",
    "import matplotlib.pyplot as plt\n",
    "import geopandas as gpd\n",
    "from shapely.geometry import Point, Polygon, box, MultiPolygon\n",
    "from vaderSentiment.vaderSentiment import SentimentIntensityAnalyzer\n",
    "analyzer = SentimentIntensityAnalyzer()"
   ]
  },
  {
   "cell_type": "markdown",
   "id": "aab7f0cb-2cb9-4dda-8f63-1b011fbb11ef",
   "metadata": {
    "tags": []
   },
   "source": [
    "### Get tweet data and create pandas dataframe"
   ]
  },
  {
   "cell_type": "code",
   "execution_count": null,
   "id": "b9cc801a-2944-41c7-af3e-08e11dbc6847",
   "metadata": {},
   "outputs": [],
   "source": [
    "date = \"aug_oct22\"\n",
    "print (date)"
   ]
  },
  {
   "cell_type": "code",
   "execution_count": null,
   "id": "f785657b-00f9-42a6-9e25-773ba7baf876",
   "metadata": {},
   "outputs": [],
   "source": [
    "#path to directory containing tweet json files\n",
    "directory = \"[path to folder with fracking_local_***.json files]\"\n",
    "\n",
    "#create pandas dataframe for tweets\n",
    "df_tweets = pd.DataFrame()\n",
    "\n",
    "#loop through each tweet file in directory, check number of tweets in each file and add to dataframe\n",
    "for file in os.listdir(directory):\n",
    "    filename = str(file)\n",
    "    print(filename)\n",
    "    with open(directory + '/' + filename) as file:\n",
    "        data = json.load(file)\n",
    "        print(len(data)) #to check the number of tweets in the file\n",
    "    df = pd.json_normalize(data)\n",
    "    if df_tweets.empty:\n",
    "        df_tweets = df\n",
    "    else:\n",
    "        df_tweets = pd.concat([df_tweets, df])\n",
    "\n",
    "#check number of tweets in dataframe is as expected and look at the first 5 rows\n",
    "print(len(df_tweets))\n",
    "\n",
    "#.head() returns the top 5(by default ) lines of the dataframe\n",
    "df_tweets.head()"
   ]
  },
  {
   "cell_type": "markdown",
   "id": "4fd5d9d3-8135-4a8a-8653-560847e16ab1",
   "metadata": {},
   "source": [
    "#### Calculate sentiment of tweet text and add to dataframe"
   ]
  },
  {
   "cell_type": "code",
   "execution_count": null,
   "id": "f7cee47f-a14e-4578-bdc7-46d5ee8f7c75",
   "metadata": {},
   "outputs": [],
   "source": [
    "df_tweets['compound'] = [analyzer.polarity_scores(x)['compound'] for x in df_tweets['source_text']]\n",
    "df_tweets['neg'] = [analyzer.polarity_scores(x)['neg'] for x in df_tweets['source_text']]\n",
    "df_tweets['neu'] = [analyzer.polarity_scores(x)['neu'] for x in df_tweets['source_text']]\n",
    "df_tweets['pos'] = [analyzer.polarity_scores(x)['pos'] for x in df_tweets['source_text']]\n",
    "df_tweets.head()"
   ]
  },
  {
   "cell_type": "markdown",
   "id": "1f8c8ca1-e653-4394-adeb-30b9d7c8e858",
   "metadata": {},
   "source": [
    "### Use pandas for some initial analysis of the dataset"
   ]
  },
  {
   "cell_type": "code",
   "execution_count": null,
   "id": "b8b3d91e-2e34-48eb-b8eb-330066c1c467",
   "metadata": {},
   "outputs": [],
   "source": [
    "print(df_tweets['source_id'].count())"
   ]
  },
  {
   "cell_type": "code",
   "execution_count": null,
   "id": "c60d5a31-0750-458c-987c-4f91d3ad5fc3",
   "metadata": {},
   "outputs": [],
   "source": [
    "# check for any duplicate tweets in dataset and remove them\n",
    "df_tweets.drop_duplicates(subset=None, inplace=True)\n",
    "print(df_tweets['source_id'].count())"
   ]
  },
  {
   "cell_type": "code",
   "execution_count": null,
   "id": "8466fedc-3b1f-4161-9840-81d7b83fbe7b",
   "metadata": {},
   "outputs": [],
   "source": [
    "# convert 'source_timestamp' values to datetime format\n",
    "df_tweets['source_timestamp'] = pd.to_datetime(df_tweets['source_timestamp'], format='%Y-%m-%d %H:%M:%S')\n",
    "# sort dataset by date/time\n",
    "df_tweets = df_tweets.sort_values(by='source_timestamp')\n",
    "print(df_tweets.head())"
   ]
  },
  {
   "cell_type": "markdown",
   "id": "0465ccc6-9546-460c-9e5e-72d46d9e8201",
   "metadata": {},
   "source": [
    "#### Plot a timeseries"
   ]
  },
  {
   "cell_type": "code",
   "execution_count": null,
   "id": "6164215d-c330-4a29-b5a3-773a66e46ebc",
   "metadata": {},
   "outputs": [],
   "source": [
    "# prepare data to plot tweet count and sentiment by hour\n",
    "tweet_counts_h = df_tweets.resample('H', on='source_timestamp').source_id.count()\n",
    "sentiment_mean_h = df_tweets.resample('H', on='source_timestamp').compound.mean()"
   ]
  },
  {
   "cell_type": "code",
   "execution_count": null,
   "id": "43106dee-8248-4e36-8aa9-7dc34dcafcac",
   "metadata": {},
   "outputs": [],
   "source": [
    "# plot tweet count timeseries by hour\n",
    "plt.figure()\n",
    "tweet_counts_d.plot(kind=\"line\", fontsize=10)\n",
    "plt.title(\"Number of tweets by day\")\n",
    "plt.tight_layout()\n",
    "plt.show()"
   ]
  },
  {
   "cell_type": "code",
   "execution_count": null,
   "id": "03459410-534d-4a02-aea4-45990d74b604",
   "metadata": {},
   "outputs": [],
   "source": [
    "# plot tweet count timeseries by hour\n",
    "plt.subplot(2,1,1)\n",
    "tweet_counts_h.plot(kind=\"line\", fontsize=10, xlabel='Date', ylabel='number of tweets')\n",
    "plt.title(\"Number of tweets by hour (retweets excluded)\")\n",
    "\n",
    "# plot tweet sentiment timeseries by hour\n",
    "plt.subplot(2,1,2)\n",
    "sentiment_mean_h.plot(kind=\"line\", fontsize=10, xlabel='Date', ylabel='mean sentiment poloarity score', color=\"green\")\n",
    "\n",
    "plt.tight_layout()\n",
    "plt.show()"
   ]
  },
  {
   "cell_type": "code",
   "execution_count": null,
   "id": "392fdc6f-25cc-4bcf-881d-206368a1c552",
   "metadata": {},
   "outputs": [],
   "source": [
    "# Hourly plot is a bit messy, resample the dataframe to plot tweets by day instead\n",
    "tweet_counts_d = df_tweets.resample('D', on='source_timestamp').source_id.count()\n",
    "sentiment_mean_d = df_tweets.resample('D', on='source_timestamp').compound.mean()"
   ]
  },
  {
   "cell_type": "code",
   "execution_count": null,
   "id": "ba993043-6c25-46bb-973d-755203d0e903",
   "metadata": {},
   "outputs": [],
   "source": [
    "plt.subplot(2,1,1)\n",
    "tweet_counts_d.plot(kind=\"line\", fontsize=10, xlabel='Date', ylabel='number of tweets')\n",
    "plt.title(\"Number of tweets by day (retweets excluded)\")\n",
    "\n",
    "plt.subplot(2,1,2)\n",
    "sentiment_mean_d.plot(kind=\"line\", fontsize=10, xlabel='Date', ylabel='mean sentiment poloarity score', color=\"green\")\n",
    "\n",
    "plt.tight_layout()\n",
    "plt.show()"
   ]
  },
  {
   "cell_type": "markdown",
   "id": "9b282d81-8719-44a5-8451-99d66b7cedd4",
   "metadata": {},
   "source": [
    "### Now use Geopandas to plot the data on a map"
   ]
  },
  {
   "cell_type": "markdown",
   "id": "f538fc18-f667-4415-b170-80a8dbb14f8e",
   "metadata": {},
   "source": [
    "#### First you need to use location data for tweet to create geodataframe ready for mapping with GeoPandas"
   ]
  },
  {
   "cell_type": "code",
   "execution_count": null,
   "id": "cb33be5f-3a37-4c14-9762-fde339f208f0",
   "metadata": {},
   "outputs": [],
   "source": [
    "gdf = gpd.GeoDataFrame(df_tweets, crs=4326, geometry=gpd.GeoSeries.from_wkt(df_tweets.location))\n",
    "gdf.head()"
   ]
  },
  {
   "cell_type": "markdown",
   "id": "1b94d790-b01d-4820-bd13-2c0370e4750f",
   "metadata": {},
   "source": [
    "## Tweets by world country"
   ]
  },
  {
   "cell_type": "markdown",
   "id": "270d4e50-3ba6-4646-8603-9da6069d9b98",
   "metadata": {
    "tags": []
   },
   "source": [
    "#### Need to get Countries_WGS84.shp file\n",
    "#### Use GeoPandas to read shape data into a new geodataframe"
   ]
  },
  {
   "cell_type": "code",
   "execution_count": null,
   "id": "2337e816-5c3b-46f3-87e7-e72e0c3cd476",
   "metadata": {},
   "outputs": [],
   "source": [
    "countries = \"[path/to/folder/containing/shapefile/]Countries_WGS84.shp\"\n",
    "map_countries = gpd.read_file(countries)\n",
    "map_countries.head()"
   ]
  },
  {
   "cell_type": "markdown",
   "id": "4ef37fc6-4e7d-4c95-9a67-0fa3982494e4",
   "metadata": {
    "tags": []
   },
   "source": [
    "#### Now let's merge our tweet geodataframe and our countries geodataframe using 'sjoin' - this will allow us to assign tweet location to a country polygon from the shapefile data"
   ]
  },
  {
   "cell_type": "code",
   "execution_count": null,
   "id": "2795f7f1-8254-4e22-bf59-09de98cdea77",
   "metadata": {},
   "outputs": [],
   "source": [
    "gdf_countries = gdf.to_crs(epsg=4326) # this transforms the geometry to the correct coordinate reference system for the shapefile.\n",
    "tweets_countries =gpd.sjoin(gdf_countries, map_countries, how=\"inner\", predicate='intersects')\n",
    "tweets_countries.head()"
   ]
  },
  {
   "cell_type": "markdown",
   "id": "c688359c-c04b-4c6d-9d88-7acb476fc98e",
   "metadata": {},
   "source": [
    "##### OPTIONAL: Send data to a csv file for checking/further analysis"
   ]
  },
  {
   "cell_type": "code",
   "execution_count": null,
   "id": "fe1ecdd5-4717-417c-810a-3b999e5ceac4",
   "metadata": {},
   "outputs": [],
   "source": [
    "outfile = \"[path/to/folder/]fracking_local_\" + date + \".csv\"\n",
    "tweets_countries.to_csv(outfile)"
   ]
  },
  {
   "cell_type": "markdown",
   "id": "9b640e36-e010-4af8-8433-9bd08d35771f",
   "metadata": {},
   "source": [
    "#### List the number of tweets (tweet count) by country - check if this looks sensible"
   ]
  },
  {
   "cell_type": "code",
   "execution_count": null,
   "id": "85071b9c-4758-42cc-a2f2-d753f95fe59b",
   "metadata": {},
   "outputs": [],
   "source": [
    "tweets_by_country = tweets_countries.groupby( [ \"CNTRY_NAME\"] ).size().to_frame(name = 'count').reset_index()\n",
    "tweets_by_country"
   ]
  },
  {
   "cell_type": "markdown",
   "id": "f29739a1-648f-4a43-927f-b7694c5a6fac",
   "metadata": {},
   "source": [
    "#### Merge the geodataframe with the cleaned up csv dataframe using country name column heading"
   ]
  },
  {
   "cell_type": "code",
   "execution_count": null,
   "id": "f251e80f-9459-4e16-9cff-9d455ea308b7",
   "metadata": {},
   "outputs": [],
   "source": [
    "# joining the geodataframe with the cleaned up csv dataframe\n",
    "merged = map_countries.set_index('CNTRY_NAME').join(tweets_by_country.set_index('CNTRY_NAME'))\n",
    "# update any NaN values in the count column to 0\n",
    "merged[\"count\"] = merged[\"count\"].fillna(0)\n",
    "#.head() returns the top 5(by default ) lines of the dataframe\n",
    "merged.max(numeric_only=True)"
   ]
  },
  {
   "cell_type": "code",
   "execution_count": null,
   "id": "de36e489-f4dd-4cd1-bbd4-0f75d87a1380",
   "metadata": {},
   "outputs": [],
   "source": [
    "merged.head()"
   ]
  },
  {
   "cell_type": "markdown",
   "id": "7759e908-5be9-4a3c-8a4e-8ce01bd30ac8",
   "metadata": {},
   "source": [
    "### Now let's make a map!"
   ]
  },
  {
   "cell_type": "markdown",
   "id": "b16e4e5e-25aa-49fa-afe4-3f99aa1f7473",
   "metadata": {},
   "source": [
    "#### Plotting tweet count for each country polygon"
   ]
  },
  {
   "cell_type": "code",
   "execution_count": null,
   "id": "90913096-bc9a-4faf-b4a9-d244fd1f4662",
   "metadata": {},
   "outputs": [],
   "source": [
    "# set a variable that will call whatever column we want to visualise on the map\n",
    "variable = 'count'\n",
    "# set the range for the choropleth\n",
    "vmin, vmax = merged['count'].min(), merged['count'].max()\n",
    "# create figure and axes for Matplotlib\n",
    "fig, ax = plt.subplots(1, figsize=(30,12))\n",
    "\n",
    "merged.plot(column=variable, cmap='OrRd', linewidth=0.8, ax=ax, edgecolor='0.8')\n",
    "\n",
    "# remove the axis\n",
    "ax.axis('off')\n",
    "# add a title\n",
    "title = 'Number of fracking tweets by country ' + date\n",
    "ax.set_title(title, fontdict={'fontsize': '25', 'fontweight' : '3'})\n",
    "# create an annotation for the data source\n",
    "ax.annotate('using located tweets containing the keyword \"fracking\" in english',xy=(0.1, .08), xycoords='figure fraction', horizontalalignment='left', verticalalignment='top', fontsize=12, color='#555555')\n",
    "\n",
    "# Create colorbar as a legend\n",
    "sm = plt.cm.ScalarMappable(cmap='OrRd', norm=plt.Normalize(vmin=vmin, vmax=vmax))\n",
    "# empty array for the data range\n",
    "sm._A = []\n",
    "# add the colorbar to the figure\n",
    "cbar = fig.colorbar(sm, label=r'Number of tweets', format='%1.0f', ax=ax)\n",
    "#saving our map as .png file.\n",
    "#fig_name = '/path/to/folder/frackingtweets_country_english_' + date + '.png'\n",
    "# fig.savefig(fig_name, dpi=300)"
   ]
  },
  {
   "cell_type": "markdown",
   "id": "c9fa5617-e475-4f04-9ef6-e494e32c4cef",
   "metadata": {},
   "source": [
    "## Your turn!!"
   ]
  },
  {
   "cell_type": "markdown",
   "id": "e1cdbc79-f890-4012-90a9-7570206d38aa",
   "metadata": {},
   "source": [
    "### Plot tweet text sentiment instead of tweet count - using the same steps as above for tweet count map"
   ]
  },
  {
   "cell_type": "code",
   "execution_count": null,
   "id": "545a550e-c71f-4407-8258-45acb3bc2244",
   "metadata": {
    "tags": []
   },
   "outputs": [],
   "source": [
    "#use the tweet dataframe to group the compound sentiment of tweets by country\n"
   ]
  },
  {
   "cell_type": "code",
   "execution_count": null,
   "id": "5e270dca-35cd-48f5-a9e8-43c2c757badf",
   "metadata": {},
   "outputs": [],
   "source": [
    "# join the geodataframe with the cleaned up csv dataframe\n",
    "\n"
   ]
  },
  {
   "cell_type": "code",
   "execution_count": null,
   "id": "fa61dc26-6d3e-4280-81b6-5c9856228ec3",
   "metadata": {},
   "outputs": [],
   "source": []
  },
  {
   "cell_type": "code",
   "execution_count": null,
   "id": "f4c52478-64c5-433d-ac4c-0d197acf000b",
   "metadata": {},
   "outputs": [],
   "source": [
    "# set a variable that will call whatever column we want to visualise on the map\n",
    "variable = \n",
    "\n",
    "# set the range for the choropleth\n",
    "\n",
    "\n",
    "# create figure and axes for Matplotlib\n",
    "\n",
    "# remove the axis\n",
    "\n",
    "# add a title\n",
    "\n",
    "# create an annotation for the data source\n",
    "\n",
    "# Create colorbar as a legend\n",
    "\n",
    "# empty array for the data range\n",
    "\n",
    "# add the colorbar to the figure\n",
    "\n"
   ]
  },
  {
   "cell_type": "markdown",
   "id": "e0268022-17f8-47c6-ba1a-d0044c5ba63d",
   "metadata": {},
   "source": [
    "### Plot Tweet count/sentiment by European country admin level 1 using the same steps as above for country"
   ]
  },
  {
   "cell_type": "code",
   "execution_count": null,
   "id": "aaafcb46-2f2c-418f-b0d6-74800758d224",
   "metadata": {},
   "outputs": [],
   "source": [
    "# You will need the \"ref-nuts-2016-3035_LEVL_1\" shapefile. Read the shapefile using Geopandas.\n"
   ]
  },
  {
   "cell_type": "code",
   "execution_count": null,
   "id": "0854fbfe-00e4-4e6e-80ce-d8dd1b990840",
   "metadata": {},
   "outputs": [],
   "source": [
    "# use sjoin to merge the map data with the located tweet data\n",
    "# you may need to transform the Geodataframe to a different coordinate reference system (crs)\n",
    "# https://geopandas.org/en/stable/docs/user_guide/projections.html\n",
    "# https://geopandas.org/en/stable/docs/reference/api/geopandas.GeoDataFrame.to_crs.html\n",
    "\n"
   ]
  },
  {
   "cell_type": "code",
   "execution_count": null,
   "id": "f0ae5e9d-35e7-4522-8948-bf9c5400bdaa",
   "metadata": {},
   "outputs": [],
   "source": [
    "#outfile = \"[path to outfile]_tweets_europe.csv\"\n",
    "#tweets_europe.to_csv(outfile)"
   ]
  },
  {
   "cell_type": "markdown",
   "id": "13b36352-edb8-4381-bd11-73f965680398",
   "metadata": {},
   "source": [
    "#### Plot tweet count by admin area"
   ]
  },
  {
   "cell_type": "code",
   "execution_count": null,
   "id": "62caec05-32cd-4414-b6c9-eecdd242dc40",
   "metadata": {},
   "outputs": [],
   "source": [
    "#group tweet counts by NUTS_NAME\n"
   ]
  },
  {
   "cell_type": "code",
   "execution_count": null,
   "id": "41a1d0dc-ceb4-43f2-b1f6-9be2436f74ab",
   "metadata": {},
   "outputs": [],
   "source": [
    "# join the geodataframe with the cleaned up csv dataframe\n",
    "\n",
    "# update any NaN values in the count column to 0 (optional)\n"
   ]
  },
  {
   "cell_type": "code",
   "execution_count": null,
   "id": "08b0ffe2-8f77-4df9-88da-853044e9fa0b",
   "metadata": {},
   "outputs": [],
   "source": [
    "# Make a map of tweet count by European country admin level 1!\n"
   ]
  },
  {
   "cell_type": "markdown",
   "id": "6213182b-729a-4b12-a793-4d6af90bfe9b",
   "metadata": {},
   "source": [
    "#### Now plot sentiment by admin area"
   ]
  },
  {
   "cell_type": "code",
   "execution_count": null,
   "id": "c1f31f6d-8a84-4a7d-b08b-56364e6697ed",
   "metadata": {
    "tags": []
   },
   "outputs": [],
   "source": [
    "#group tweet sentiment columns ('compound', 'neg' and 'pos') by NUTS_NAME\n"
   ]
  },
  {
   "cell_type": "code",
   "execution_count": null,
   "id": "c8d887a4-2dec-4144-aaba-20b9e06dae2d",
   "metadata": {},
   "outputs": [],
   "source": [
    "# joining the geodataframe with the cleaned up csv dataframe\n"
   ]
  },
  {
   "cell_type": "code",
   "execution_count": null,
   "id": "eada4095-4331-405b-8d2d-2925348636d8",
   "metadata": {},
   "outputs": [],
   "source": [
    "#take a look at the minimum and maximum compound sentiment values (helps with deciding scale for colouring on map)\n"
   ]
  },
  {
   "cell_type": "markdown",
   "id": "b8c45063-bff6-4553-97ea-1829ebb7caf6",
   "metadata": {},
   "source": [
    "#### Plot compound sentiment of tweets by admin area"
   ]
  },
  {
   "cell_type": "code",
   "execution_count": null,
   "id": "b1b351a8-a47e-4ad8-9082-35e3e4bc4ce3",
   "metadata": {},
   "outputs": [],
   "source": [
    "\n",
    "\n"
   ]
  },
  {
   "cell_type": "markdown",
   "id": "47b6931f-719a-4223-a0b7-14cc84320708",
   "metadata": {},
   "source": [
    "#### Now have a go at plotting 'neg' and 'pos' sentiment values in two subplots, side by side."
   ]
  },
  {
   "cell_type": "code",
   "execution_count": null,
   "id": "438929c4-c8bb-418a-897b-9382644b5566",
   "metadata": {},
   "outputs": [],
   "source": []
  },
  {
   "cell_type": "markdown",
   "id": "4d574431-8623-4740-ad2c-1adcb85887d1",
   "metadata": {},
   "source": [
    "### Now let's use the European country admin level 3 shapefile for a specific date in the dataset"
   ]
  },
  {
   "cell_type": "code",
   "execution_count": null,
   "id": "387babee-29d8-4d1a-b7dc-e6e4cbc38398",
   "metadata": {},
   "outputs": [],
   "source": [
    "# Get the nuts level 3 shapefile (NUTS_RG_01M_2016_3035_LEVL_3.shp) and use geopandas to create the geodataframe\n"
   ]
  },
  {
   "cell_type": "code",
   "execution_count": null,
   "id": "5d3d2a37-a151-465d-a0ae-e93ade83d99d",
   "metadata": {},
   "outputs": [],
   "source": [
    "# Decide what specific date you would like to plot tweets for. Use format yyyymmdd.\n",
    "specific_date = '20221019'\n",
    "# boolean variable that gives us the option to plot for a spcific date or for the whole dataset\n",
    "use_date = True"
   ]
  },
  {
   "cell_type": "code",
   "execution_count": null,
   "id": "e25497ac-7d8e-4090-9349-f7781ccd67fd",
   "metadata": {},
   "outputs": [],
   "source": [
    "gdf_europe_L3 = gdf.to_crs(epsg=3035)\n",
    "tweets_europe_L3 = gpd.sjoin(gdf_europe_L3, map_europe_L3, how=\"inner\", predicate='intersects')\n",
    "if use_date:\n",
    "    tweets_europe_L3 = tweets_europe_L3[tweets_europe_L3.source_date == specific_date]\n",
    "tweets_europe_L3.head()"
   ]
  },
  {
   "cell_type": "code",
   "execution_count": null,
   "id": "f9536f52-1cd1-4039-aa69-935b5e68d7aa",
   "metadata": {},
   "outputs": [],
   "source": [
    "#option to save output to csv again\n",
    "#tweets_europe_L3.to_csv(\"/path/to/folder/fracking_local_europeL3_\" + specific_date + \".csv\")"
   ]
  },
  {
   "cell_type": "code",
   "execution_count": null,
   "id": "d666e25c-7bea-4b7f-885c-6818a5b6e8ed",
   "metadata": {},
   "outputs": [],
   "source": [
    "tweets_europe_by_country_L3 = tweets_europe_L3.groupby( [ \"NUTS_NAME\"] ).size().to_frame(name = 'count').reset_index()\n",
    "tweets_europe_by_country_L3"
   ]
  },
  {
   "cell_type": "code",
   "execution_count": null,
   "id": "8e91b0cc-0025-4666-a2fc-cb1c4b630b0e",
   "metadata": {},
   "outputs": [],
   "source": [
    "# joining the geodataframe with the cleaned up csv dataframe\n",
    "merged_europe_L3 = map_europe_L3.set_index('NUTS_NAME').join(tweets_europe_by_country_L3.set_index('NUTS_NAME'))\n",
    "#.head() returns the top 5(by default ) lines of the dataframe\n",
    "merged_europe_L3.max(numeric_only=True)"
   ]
  },
  {
   "cell_type": "code",
   "execution_count": null,
   "id": "163b9309-cbab-434f-b28e-4ecb7d2aabcf",
   "metadata": {},
   "outputs": [],
   "source": [
    "# set a variable that will call whatever column we want to visualise on the map\n",
    "variable = 'count'\n",
    "# set the range for the choropleth\n",
    "vmin, vmax = merged_europe_L3['count'].min(), merged_europe_L3['count'].max()\n",
    "# set date variable to use in title and filename\n",
    "if use_date:\n",
    "    date = specific_date\n",
    "# create figure and axes for Matplotlib\n",
    "fig, ax = plt.subplots(1, figsize=(30,12))\n",
    "\n",
    "merged_europe_L3.plot(column=variable, cmap='OrRd', linewidth=0.8, ax=ax, edgecolor='0.8')\n",
    "\n",
    "# add a point and label on the map to show the location of London\n",
    "plt.plot(3621142.41, 3204082.16, markersize=5, marker='o', color='black')       ##transform long and lat co-ordinates to EPSG 3035 using https://epsg.io/transform\n",
    "ax.text(3621142.41, 3204082.16, '  London', color='black', size=15, ha='left', va='center')\n",
    "\n",
    "\n",
    "# remove the axis\n",
    "ax.axis('off')\n",
    "# add a title\n",
    "title = 'Number of fracking tweets by European admin level 3 ' + date\n",
    "ax.set_title(title, fontdict={'fontsize': '25', 'fontweight' : '3'})\n",
    "# create an annotation for the data source\n",
    "#ax.annotate('using tweets containing the keyword \"fracking\" in english',xy=(0.02, .02), xycoords='axes fraction', horizontalalignment='left', verticalalignment='top', fontsize=12, color='#555555')\n",
    "\n",
    "# Create colorbar as a legend\n",
    "sm = plt.cm.ScalarMappable(cmap='OrRd', norm=plt.Normalize(vmin=vmin, vmax=vmax))\n",
    "# empty array for the data range\n",
    "sm._A = []\n",
    "# add the colorbar to the figure\n",
    "cbar = fig.colorbar(sm, label=r'Number of tweets', format='%1.0f', ax=ax)\n",
    "#saving our map as .png file.\n",
    "#fig_name = '/path/to/folder/frackingtweets_europeL3_english_' + date + '.png'\n",
    "#fig.savefig(fig_name, dpi=300)"
   ]
  },
  {
   "cell_type": "markdown",
   "id": "6ccecf73-862e-47ff-acef-cb1a61c4a3dc",
   "metadata": {},
   "source": [
    "### Plot sentiment ('compound') for this date as well"
   ]
  },
  {
   "cell_type": "code",
   "execution_count": null,
   "id": "28fd2562-b632-47aa-a365-52b2476a48f0",
   "metadata": {
    "tags": []
   },
   "outputs": [],
   "source": [
    "# group mean compound sentiment by NUTS_NAME\n"
   ]
  },
  {
   "cell_type": "code",
   "execution_count": null,
   "id": "49bd9da0-cb21-40b6-9231-ef48459951c4",
   "metadata": {},
   "outputs": [],
   "source": [
    "# joining the geodataframe with the cleaned up csv dataframe\n"
   ]
  },
  {
   "cell_type": "code",
   "execution_count": null,
   "id": "0084331d-8e17-4d25-b532-2f17e98c1555",
   "metadata": {},
   "outputs": [],
   "source": [
    "# take a look at max and min values\n"
   ]
  },
  {
   "cell_type": "code",
   "execution_count": null,
   "id": "3794179e-e1da-4590-8594-082891e8a06f",
   "metadata": {},
   "outputs": [],
   "source": [
    "# plot the map\n"
   ]
  },
  {
   "cell_type": "markdown",
   "id": "cf73a22b-fa73-4114-a6c0-3d47f4414106",
   "metadata": {},
   "source": [
    "### Plot negative tweets only"
   ]
  },
  {
   "cell_type": "code",
   "execution_count": null,
   "id": "72a97463-67ea-46bd-9a04-0c5f16466684",
   "metadata": {},
   "outputs": [],
   "source": []
  },
  {
   "cell_type": "markdown",
   "id": "2d000103-9e08-436e-b284-2c799cfe1551",
   "metadata": {},
   "source": [
    "### Plot Positive tweets only"
   ]
  },
  {
   "cell_type": "code",
   "execution_count": null,
   "id": "835455d2-d385-4fa7-a2fc-c13097dacdb1",
   "metadata": {},
   "outputs": [],
   "source": []
  },
  {
   "cell_type": "markdown",
   "id": "184d5e6d-b8ba-41ff-b872-bf3df2ad3170",
   "metadata": {},
   "source": [
    "### Plot tweets using London borough shapefile"
   ]
  },
  {
   "cell_type": "code",
   "execution_count": null,
   "id": "09284c1c-a4af-4b57-9a6d-3d2177bdbcab",
   "metadata": {},
   "outputs": [],
   "source": [
    "london = \"/Users/mds228/social_sensing/mapping/statistical-gis-boundaries-london/ESRI/London_Borough_Excluding_MHW.shp\"\n"
   ]
  },
  {
   "cell_type": "code",
   "execution_count": null,
   "id": "74c720f0-f556-4276-bebf-6854cbce1fc6",
   "metadata": {},
   "outputs": [],
   "source": [
    "#Things to think about:\n",
    "    # - How to normalise for tweet activity in a location for population/propensity for tweets from that location "
   ]
  },
  {
   "cell_type": "code",
   "execution_count": null,
   "id": "5a65d1b6-52bc-4cb1-9d59-57178df343ba",
   "metadata": {},
   "outputs": [],
   "source": []
  }
 ],
 "metadata": {
  "kernelspec": {
   "display_name": "Python 3 (ipykernel)",
   "language": "python",
   "name": "python3"
  },
  "language_info": {
   "codemirror_mode": {
    "name": "ipython",
    "version": 3
   },
   "file_extension": ".py",
   "mimetype": "text/x-python",
   "name": "python",
   "nbconvert_exporter": "python",
   "pygments_lexer": "ipython3",
   "version": "3.10.7"
  }
 },
 "nbformat": 4,
 "nbformat_minor": 5
}
